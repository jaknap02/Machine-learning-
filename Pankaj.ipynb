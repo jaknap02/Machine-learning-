{
  "cells": [
    {
      "cell_type": "markdown",
      "metadata": {
        "id": "view-in-github",
        "colab_type": "text"
      },
      "source": [
        "<a href=\"https://colab.research.google.com/github/jaknap02/Machine-learning-/blob/main/Pankaj.ipynb\" target=\"_parent\"><img src=\"https://colab.research.google.com/assets/colab-badge.svg\" alt=\"Open In Colab\"/></a>"
      ]
    },
    {
      "cell_type": "code",
      "execution_count": null,
      "metadata": {
        "id": "HXyQVjn5VCFT"
      },
      "outputs": [],
      "source": [
        "import random\n",
        "import matplotlib.pyplot as plt"
      ]
    },
    {
      "cell_type": "markdown",
      "source": [
        "The \"import\" keyword is used to bring in external modules or libraries into our program. By \"import random\" means we used generating pseudo random number and be used for tasks such as shuffling data, generating random numbers for initialization of weights in neural networks . import matplotlib.pyplot as plt in Python is a common way to import the pyplot module from the matplotlib library.  It makes it more convenient to refer to the module in your code."
      ],
      "metadata": {
        "id": "xsTr22Sdu4yK"
      }
    },
    {
      "cell_type": "markdown",
      "source": [],
      "metadata": {
        "id": "m1ikCVxivXiP"
      }
    },
    {
      "cell_type": "code",
      "execution_count": null,
      "metadata": {
        "id": "3vAeQvqxYQQc"
      },
      "outputs": [],
      "source": [
        "mapping_dict = dict(zip(range(0,10),range(0,10)))"
      ]
    },
    {
      "cell_type": "markdown",
      "source": [
        "We create dictonary by mapping_dic in python using zip function and the range function. range(0, 10): This create a range function and sequance number from 0 to 9.\n",
        "zip(range(0,10),range(0,10)): This zip function combines two or more iterable element-wise . Here , it combines two ranges . It pairs the first the first element of the range with first element of the second range,the second element with the second element , and so on.\n",
        "dict(): The dict function then convert the pairs created by zip into a dictonary . Each pair beconmes a key-value pair in the dictinoary."
      ],
      "metadata": {
        "id": "hecMvoHBzQw4"
      }
    },
    {
      "cell_type": "code",
      "execution_count": null,
      "metadata": {
        "colab": {
          "base_uri": "https://localhost:8080/"
        },
        "id": "oBzWrsy2nsoC",
        "outputId": "34abf372-00ec-4e2d-8e75-d531e943ae31"
      },
      "outputs": [
        {
          "output_type": "execute_result",
          "data": {
            "text/plain": [
              "{0: 0, 1: 1, 2: 2, 3: 3, 4: 4, 5: 5, 6: 6, 7: 7, 8: 8, 9: 9}"
            ]
          },
          "metadata": {},
          "execution_count": 14
        }
      ],
      "source": [
        "mapping_dict"
      ]
    },
    {
      "cell_type": "code",
      "execution_count": null,
      "metadata": {
        "id": "ghEVfaoApjSN"
      },
      "outputs": [],
      "source": [
        "for k in mapping_dict.keys():\n",
        "\n",
        "  mapping_dict[k] = str(mapping_dict[k])"
      ]
    },
    {
      "cell_type": "markdown",
      "source": [
        "mapping_dict[k]: This return a view of all the keys in the mapping_dict dictionary.\n",
        "for k in mapping_dict.keys():: This is for loop that literate through each key in the set of the keys.\n",
        "mapping_dict[k] = str(mapping_dict[k]) : For each key(k), it takes the corresponding value(mapping_dict[k]),convert it to a string using the str() function , and then updates the value associated with that key in the mapping_dict dictionary."
      ],
      "metadata": {
        "id": "UZ6KrOk42dg6"
      }
    },
    {
      "cell_type": "code",
      "execution_count": null,
      "metadata": {
        "colab": {
          "base_uri": "https://localhost:8080/"
        },
        "id": "VKAyIsW6q_qS",
        "outputId": "0ebc6c90-7626-413a-e380-85d20cfcd3c3"
      },
      "outputs": [
        {
          "output_type": "execute_result",
          "data": {
            "text/plain": [
              "{0: '0',\n",
              " 1: '1',\n",
              " 2: '2',\n",
              " 3: '3',\n",
              " 4: '4',\n",
              " 5: '5',\n",
              " 6: '6',\n",
              " 7: '7',\n",
              " 8: '8',\n",
              " 9: '9'}"
            ]
          },
          "metadata": {},
          "execution_count": 16
        }
      ],
      "source": [
        "mapping_dict"
      ]
    },
    {
      "cell_type": "code",
      "execution_count": null,
      "metadata": {
        "id": "GowosEpVrXfK"
      },
      "outputs": [],
      "source": [
        "for i in range(0,26):\n",
        "  mapping_dict[10+i] = chr(65+i)"
      ]
    },
    {
      "cell_type": "markdown",
      "source": [
        " It used to mapping integer values to uppercase letters in the ASCII character set.\n",
        "# range(0, 26) generates integers from 0 to 25.\n",
        "# 10 + i is used as the key for the dictionary. It starts from 10 and goes up to 35 (10 + 25).\n",
        "# chr(65 + i) converts the ASCII value (65 is the ASCII value for 'A') to its corresponding uppercase letter"
      ],
      "metadata": {
        "id": "_niLztfB5ikW"
      }
    },
    {
      "cell_type": "code",
      "execution_count": null,
      "metadata": {
        "colab": {
          "base_uri": "https://localhost:8080/"
        },
        "id": "beprdUCauVOp",
        "outputId": "2643fc1a-b3e8-4e2f-8673-4664095530d2"
      },
      "outputs": [
        {
          "output_type": "execute_result",
          "data": {
            "text/plain": [
              "{0: '0',\n",
              " 1: '1',\n",
              " 2: '2',\n",
              " 3: '3',\n",
              " 4: '4',\n",
              " 5: '5',\n",
              " 6: '6',\n",
              " 7: '7',\n",
              " 8: '8',\n",
              " 9: '9',\n",
              " 10: 'A',\n",
              " 11: 'B',\n",
              " 12: 'C',\n",
              " 13: 'D',\n",
              " 14: 'E',\n",
              " 15: 'F',\n",
              " 16: 'G',\n",
              " 17: 'H',\n",
              " 18: 'I',\n",
              " 19: 'J',\n",
              " 20: 'K',\n",
              " 21: 'L',\n",
              " 22: 'M',\n",
              " 23: 'N',\n",
              " 24: 'O',\n",
              " 25: 'P',\n",
              " 26: 'Q',\n",
              " 27: 'R',\n",
              " 28: 'S',\n",
              " 29: 'T',\n",
              " 30: 'U',\n",
              " 31: 'V',\n",
              " 32: 'W',\n",
              " 33: 'X',\n",
              " 34: 'Y',\n",
              " 35: 'Z'}"
            ]
          },
          "metadata": {},
          "execution_count": 18
        }
      ],
      "source": [
        "mapping_dict"
      ]
    },
    {
      "cell_type": "code",
      "execution_count": null,
      "metadata": {
        "id": "KPGkS2NXVMGn"
      },
      "outputs": [],
      "source": [
        "sample_size = 5000000\n",
        "\n",
        "random_numbers = list()\n",
        "\n",
        "for i in range(0,sample_size):\n",
        "\n",
        "  blank_str = str()\n",
        "\n",
        "  random_digit = random.randint(0,35)\n",
        "  blank_str = blank_str + mapping_dict[random_digit]\n",
        "\n",
        "  random_digit = random.randint(0,35)\n",
        "  blank_str = blank_str + mapping_dict[random_digit]\n",
        "\n",
        "  for i in range(0,8):\n",
        "    coin_toss = random.randint(0,1)\n",
        "\n",
        "    if coin_toss == 1:\n",
        "\n",
        "      random_digit = random.randint(0,35)\n",
        "      blank_str = blank_str + mapping_dict[random_digit]\n",
        "\n",
        "    else:\n",
        "      break\n",
        "\n",
        "  random_numbers.append(blank_str)"
      ]
    },
    {
      "cell_type": "markdown",
      "source": [
        "sample space means we take sample of a data in our program.\n",
        "random_numbers = list() initializes an empty list named random_numbers.\n",
        "blank_str = str() initializes an empty string in Python and assigns it to the variable blank_str.\n",
        "#random.randint(0, 35) generates a random integer between 0 and 35.\n",
        "#mapping_dict[random_digit] retrieves the value associated with the generated random digit from the mapping_dict dictionary.\n",
        "#blank_str = blank_str + mapping_dict[random_digit] concatenates this value to the existing content of blank_str.\n",
        "#The loop runs for a maximum of 8 iterations (for i in range(0, 8)).\n",
        "#Inside the loop, a coin toss is simulated with random.randint(0, 1). If the result is 1, a random digit is chosen, and its corresponding character from mapping_dict is appended to blank_str.\n",
        "#If the coin toss is 0, the loop breaks.\n",
        "#After each iteration (whether the coin toss was 0 or 1), the current state of blank_str is appended to the list random_numbers."
      ],
      "metadata": {
        "id": "s0IKhSkA6fS9"
      }
    },
    {
      "cell_type": "code",
      "execution_count": null,
      "metadata": {
        "id": "Q2nV3-Jgv-GR"
      },
      "outputs": [],
      "source": [
        "reverse_mapping_dict = dict()\n",
        "\n",
        "for k in mapping_dict.keys():\n",
        "  reverse_mapping_dict[mapping_dict[k]] = k"
      ]
    },
    {
      "cell_type": "markdown",
      "source": [
        "reverse_mapping_dict = dict() initializes an empty dictionary in Python and assigns it to the variable reverse_mapping_dict.\n",
        "For each key k, it takes the corresponding value from mapping_dict[k] (which is a character  and uses it as the key in reverse_mapping_dict. The original key k from mapping_dict becomes the value in reverse_mapping_dict."
      ],
      "metadata": {
        "id": "gFHtDVnW9OY7"
      }
    },
    {
      "cell_type": "markdown",
      "source": [],
      "metadata": {
        "id": "xH2pGUP49Czz"
      }
    },
    {
      "cell_type": "code",
      "execution_count": null,
      "metadata": {
        "id": "ba745hqvyubF"
      },
      "outputs": [],
      "source": [
        "base_frequency = dict()\n",
        "\n",
        "for blank_str in random_numbers:\n",
        "  highest_digit = max(blank_str)\n",
        "  highest_base = reverse_mapping_dict[highest_digit] + 1\n",
        "\n",
        "  if highest_base in base_frequency.keys():\n",
        "    base_frequency[highest_base] += (1/sample_size)\n",
        "  else:\n",
        "    base_frequency[highest_base] = (1/sample_size)"
      ]
    },
    {
      "cell_type": "markdown",
      "source": [
        "#base_frequency = dict() initializes an empty dictionary in Python and assigns it to the variable base_frequency.\n",
        "# max(blank_str) is used to find the highest digit in the string. This assumes that the elements in blank_str are characters representing digits.\n",
        "\n",
        "#reverse_mapping_dict[highest_digit] + 1 is used to convert the highest digit back to its corresponding base.\n",
        "\n",
        "#The code checks if highest_base is already a key in base_frequency.keys(). If it is, it increments the count; otherwise, it adds a new entry to the dictionary with a count of (1/sample_size).\n",
        "\n",
        "#The division by sample_size suggests that this code is performing some kind of normalization, possibly to represent frequencies as proportions of the entire sample."
      ],
      "metadata": {
        "id": "ro7eln7j9v3z"
      }
    },
    {
      "cell_type": "code",
      "source": [
        "plt.bar(x=base_frequency.keys(),height=base_frequency.values())"
      ],
      "metadata": {
        "id": "1Tofc60-WSDf",
        "colab": {
          "base_uri": "https://localhost:8080/",
          "height": 447
        },
        "outputId": "079cb430-2555-4124-85be-d5e1c780dcc8"
      },
      "execution_count": null,
      "outputs": [
        {
          "output_type": "execute_result",
          "data": {
            "text/plain": [
              "<BarContainer object of 36 artists>"
            ]
          },
          "metadata": {},
          "execution_count": 22
        },
        {
          "output_type": "display_data",
          "data": {
            "text/plain": [
              "<Figure size 640x480 with 1 Axes>"
            ],
            "image/png": "[encoded data removed]"
          },
          "metadata": {}
        }
      ]
    },
    {
      "cell_type": "markdown",
      "source": [
        "#base_frequency.keys() provides the x-axis values for the bar chart, which are the keys from the base_frequency dictionary. In the context you provided earlier, these might be integers representing bases.\n",
        "\n",
        "#base_frequency.values() provides the y-axis values for the bar chart, which are the values from the base_frequency dictionary. These values seem to represent frequencies or counts.\n",
        "\n",
        "#plt.bar() is the function from matplotlib.pyplot used to create a bar chart. The x parameter specifies the x-axis values, and the height parameter specifies the corresponding y-axis values.\n",
        "\n",
        "#plt.show() is used to display the plot."
      ],
      "metadata": {
        "id": "sn40Umxa-k2-"
      }
    },
    {
      "cell_type": "code",
      "source": [],
      "metadata": {
        "id": "oBwAEakMytY3"
      },
      "execution_count": null,
      "outputs": []
    }
  ],
  "metadata": {
    "colab": {
      "provenance": [],
      "name": "Pankaj.ipynb",
      "include_colab_link": true
    },
    "kernelspec": {
      "display_name": "Python 3",
      "name": "python3"
    },
    "language_info": {
      "name": "python"
    }
  },
  "nbformat": 4,
  "nbformat_minor": 0
}